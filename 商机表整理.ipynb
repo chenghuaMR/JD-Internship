{
 "cells": [
  {
   "cell_type": "code",
   "execution_count": null,
   "metadata": {},
   "outputs": [],
   "source": [
    "import pandas as pd\n",
    "import numpy as np\n",
    "import os\n",
    "\n",
    "# 设定路径\n",
    "rpath = 'D:\\\\maran10\\\\Documents\\\\日常工作\\\\商机表\\\\6.29商机反馈\\\\'\n",
    "wpath = 'D:\\\\maran10\\\\Documents\\\\日常工作\\\\商机表\\\\'\n",
    "sep_path = 'D:\\\\maran10\\\\Documents\\\\日常工作\\\\商机表\\\\各区域拆分\\\\'\n",
    "files = os.listdir(rpath)\n",
    "\n",
    "opp = pd.read_excel(wpath+'全国商用线下商机表6.18.xlsx',encoding = 'gbk')\n",
    "# 下面这里是处理第一行的注释\n",
    "opp.columns = opp.iloc[0]  \n",
    "opp = opp.loc[1:,:]\n",
    "\n",
    "opp  # 看一下原表格\n"
   ]
  },
  {
   "cell_type": "code",
   "execution_count": null,
   "metadata": {},
   "outputs": [],
   "source": [
    "# 循环读各区域提报的新商机表\n",
    "count=0  # 计循环次数\n",
    "for f in files: \n",
    "    if not \".xlsx\" in f:\n",
    "        continue\n",
    "    opp_region = pd.read_excel(rpath+f,encoding = \"gbk\")\n",
    "    opp_region.columns = opp_region.iloc[0]\n",
    "    opp_region = opp_region.loc[1:,:]\n",
    "    count = count+1\n",
    "#     print(opp_region.head(5))\n",
    "    print(\"第几次循环：\",count)\n",
    "    print(f,\"该文件中的数据条数\",len(opp_region))\n",
    "    \n",
    "    # 直接筛选更新了的，没更新的不用管\n",
    "\n",
    "    opp_new = opp_region[opp_region['本周是否更新']==\"是\"]\n",
    "    print(f,\"更新数据条数\",len(opp_new))\n",
    "    \n",
    "    if count == 1:  # 第一次要先生成空表才能concat\n",
    "        opp_renew = pd.DataFrame(columns = list(opp_new))  # 项目唯一编号不为空的，是更新商机\n",
    "        opp_totalnew = pd.DataFrame(columns = list(opp_new))  # 项目唯一编号为空的，是新增商机\n",
    "    \n",
    "    opp_renew = pd.concat([opp_renew,opp_new[pd.notnull(opp_new['项目唯一编号\\n（总部填写）'])]].copy())\n",
    "    opp_totalnew = pd.concat([opp_totalnew,opp_new[pd.isnull(opp_new['项目唯一编号\\n（总部填写）'])]].copy())\n",
    "    \n",
    "    print(\"更新的项目条数\",len(opp_renew))\n",
    "    print(\"新增的项目条数\",len(opp_totalnew))\n",
    "    \n",
    "#### 写出表格\n",
    "opp_renew.to_excel(wpath+'全国更新的商机项目.xlsx',index=False,encoding='gbk')\n",
    "opp_totalnew.to_excel(wpath+'全国新增的商机项目.xlsx',index=False,encoding='gbk')\n",
    "\n",
    "# 接下来要对新增的商机项目进行手动编号，编号后再导入"
   ]
  },
  {
   "cell_type": "code",
   "execution_count": null,
   "metadata": {},
   "outputs": [],
   "source": [
    "a = opp['项目唯一编号\\n（总部填写）'].value_counts()\n",
    "print(\"项目唯一编号重复量\",len(a[a>1]))#这里应该为0\n",
    "# 这里的去重只是为了保险，完全可以不要这一步\n",
    "opp_dp = opp.drop_duplicates(subset=['项目唯一编号\\n（总部填写）'],keep='first', inplace=False)\n",
    "print(len(opp_dp))"
   ]
  },
  {
   "cell_type": "code",
   "execution_count": null,
   "metadata": {},
   "outputs": [],
   "source": [
    "# 将更新的项目表，和编码后的新增的项目表更新回总表\n",
    "print(\"原全国商机表数据条数\",len(opp_dp))\n",
    "opp_totalnew = pd.read_excel(wpath+'全国新增的商机项目_加编.xlsx',encoding = \"gbk\")\n",
    "opp_new = pd.concat([opp_dp,opp_renew,opp_totalnew])\n",
    "print(\"新全国商机表数据条数\",len(opp_new))\n",
    "cou = opp_new['项目唯一编号\\n（总部填写）'].value_counts()\n",
    "print(cou[cou>1])\n",
    "print(\"重复条数\",len(cou[cou>1]))  # 重复条数与更新条数应该相同"
   ]
  },
  {
   "cell_type": "code",
   "execution_count": null,
   "metadata": {},
   "outputs": [],
   "source": [
    "opp_new = opp_new.drop_duplicates(subset=['项目唯一编号\\n（总部填写）'],keep='last', inplace=False)\n",
    "print(\"去重后全国商机表数据条数\",len(opp_new))\n",
    "# 重新生成序号\n",
    "opp_new['序号'] = np.arrange(1,len(opp_new))\n",
    "print(\"更新后全国商用线下商机表数据条数\",len(opp_new))\n",
    "# 导出更新后的表格看下，其中“是否更新”列为“是”的是本次新增\n",
    "\n",
    "opp_new.to_excel(wpath+'更新后全国商用线下商机表.xlsx',index=False,encoding='gbk')"
   ]
  },
  {
   "cell_type": "code",
   "execution_count": null,
   "metadata": {},
   "outputs": [],
   "source": [
    "# 按区域拆分\n",
    "# opp_new = pd.read_excel(wpath+'更新后全国商用线下商机表.xlsx',encoding='gbk')\n",
    "opp_new['本周是否更新']=[np.nan]*len(opp_new) # 这句话是去掉“是否更新”一列的“是”\n",
    "for name, group in opp_new.groupby('*大区'):\n",
    "    print(name)\n",
    "    group.to_excel(sep_path+name+\"商用线下商机表.xlsx\",encoding='gbk',index=False)"
   ]
  }
 ],
 "metadata": {
  "kernelspec": {
   "display_name": "Python 3",
   "language": "python",
   "name": "python3"
  },
  "language_info": {
   "codemirror_mode": {
    "name": "ipython",
    "version": 3
   },
   "file_extension": ".py",
   "mimetype": "text/x-python",
   "name": "python",
   "nbconvert_exporter": "python",
   "pygments_lexer": "ipython3",
   "version": "3.7.6"
  }
 },
 "nbformat": 4,
 "nbformat_minor": 4
}
