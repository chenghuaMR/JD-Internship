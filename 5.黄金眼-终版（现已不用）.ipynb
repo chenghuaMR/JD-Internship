{
 "cells": [
  {
   "cell_type": "code",
   "execution_count": 1,
   "metadata": {},
   "outputs": [],
   "source": [
    "import pandas as pd\n",
    "import numpy as np\n",
    "import os\n",
    "\n",
    "path = 'D:\\\\maran10\\\\Documents\\\\日常工作\\\\20200707\\\\'\n",
    "path_newreport = 'D:\\\\maran10\\\\Documents\\\\日常工作\\\\20200703\\\\提报\\\\'\n",
    "path_report = 'D:\\\\maran10\\\\Documents\\\\日常工作\\\\20200703\\\\处理后提报\\\\'\n",
    "path_sep_r = 'D:\\\\maran10\\\\Documents\\\\日常工作\\\\20200623\\\\商品池提报拆分_新\\\\'\n",
    "\n",
    "path_goldeye = 'D:\\\\maran10\\\\Documents\\\\日常工作\\\\Q2商品池、通讯\\\\黄金眼数据源\\\\'\n",
    "\n",
    "path_goods = 'D:\\\\maran10\\\\Documents\\\\日常工作\\\\Q2商品池、通讯\\\\商品池业绩\\\\'\n",
    "path_sep_good = 'D:\\\\maran10\\\\Documents\\\\日常工作\\\\20200707\\\\商品池业绩拆分\\\\'\n"
   ]
  },
  {
   "cell_type": "code",
   "execution_count": 3,
   "metadata": {},
   "outputs": [
    {
     "name": "stdout",
     "output_type": "stream",
     "text": [
      "4月5月6月18商品池项目提报-以此为准.xlsx 2492\n",
      "4月5月6月18商品池项目提报-以此为准.xlsx 主数据号为空的 1\n",
      "4月5月6月18商品池项目提报-以此为准.xlsx 主数据号不为空的 2491\n",
      "4月5月6月18商品池项目提报-以此为准.xlsx 标准化主数据号后 2495\n",
      "4月5月6月18商品池项目提报-以此为准.xlsx 生成id后 2495\n",
      "4月5月6月18商品池项目提报-以此为准.xlsx 不含主数据号的生成id后 1\n",
      "1 主数据号不为空的 2495\n",
      "1 主数据号为空的 1\n",
      "6月末提报-家电.xlsx 2971\n",
      "6月末提报-家电.xlsx 主数据号为空的 222\n",
      "6月末提报-家电.xlsx 主数据号不为空的 2749\n",
      "6月末提报-家电.xlsx 标准化主数据号后 4309\n",
      "6月末提报-家电.xlsx 生成id后 4309\n",
      "6月末提报-家电.xlsx 不含主数据号的生成id后 222\n",
      "2 主数据号不为空的 6804\n",
      "2 主数据号为空的 223\n",
      "6月末提报-居家.xlsx 2159\n",
      "6月末提报-居家.xlsx 主数据号为空的 134\n",
      "6月末提报-居家.xlsx 主数据号不为空的 2025\n",
      "6月末提报-居家.xlsx 标准化主数据号后 2937\n",
      "6月末提报-居家.xlsx 生成id后 2937\n"
     ]
    },
    {
     "ename": "ValueError",
     "evalue": "cannot convert float NaN to integer",
     "output_type": "error",
     "traceback": [
      "\u001b[1;31m---------------------------------------------------------------------------\u001b[0m",
      "\u001b[1;31mValueError\u001b[0m                                Traceback (most recent call last)",
      "\u001b[1;32m<ipython-input-3-742337291042>\u001b[0m in \u001b[0;36m<module>\u001b[1;34m\u001b[0m\n\u001b[0;32m     49\u001b[0m     \u001b[0mprint\u001b[0m\u001b[1;33m(\u001b[0m\u001b[0mf\u001b[0m\u001b[1;33m,\u001b[0m\u001b[1;34m\"生成id后\"\u001b[0m\u001b[1;33m,\u001b[0m\u001b[0mlen\u001b[0m\u001b[1;33m(\u001b[0m\u001b[0mproT_expand\u001b[0m\u001b[1;33m)\u001b[0m\u001b[1;33m)\u001b[0m\u001b[1;33m\u001b[0m\u001b[1;33m\u001b[0m\u001b[0m\n\u001b[0;32m     50\u001b[0m \u001b[1;33m\u001b[0m\u001b[0m\n\u001b[1;32m---> 51\u001b[1;33m     \u001b[0mpro_F\u001b[0m\u001b[1;33m[\u001b[0m\u001b[1;34m'*SKU商品编码'\u001b[0m\u001b[1;33m]\u001b[0m \u001b[1;33m=\u001b[0m \u001b[0mpro_F\u001b[0m\u001b[1;33m[\u001b[0m\u001b[1;34m'*SKU商品编码'\u001b[0m\u001b[1;33m]\u001b[0m\u001b[1;33m.\u001b[0m\u001b[0mapply\u001b[0m\u001b[1;33m(\u001b[0m\u001b[1;32mlambda\u001b[0m \u001b[0mx\u001b[0m\u001b[1;33m:\u001b[0m\u001b[0mint\u001b[0m\u001b[1;33m(\u001b[0m\u001b[0mx\u001b[0m\u001b[1;33m)\u001b[0m\u001b[1;33m)\u001b[0m\u001b[1;33m\u001b[0m\u001b[1;33m\u001b[0m\u001b[0m\n\u001b[0m\u001b[0;32m     52\u001b[0m     \u001b[0mpro_F\u001b[0m\u001b[1;33m[\u001b[0m\u001b[1;34m'*SKU商品编码'\u001b[0m\u001b[1;33m]\u001b[0m \u001b[1;33m=\u001b[0m \u001b[0mpro_F\u001b[0m\u001b[1;33m[\u001b[0m\u001b[1;34m'*SKU商品编码'\u001b[0m\u001b[1;33m]\u001b[0m\u001b[1;33m.\u001b[0m\u001b[0mapply\u001b[0m\u001b[1;33m(\u001b[0m\u001b[1;32mlambda\u001b[0m \u001b[0mx\u001b[0m\u001b[1;33m:\u001b[0m \u001b[0mstr\u001b[0m\u001b[1;33m(\u001b[0m\u001b[0mx\u001b[0m\u001b[1;33m)\u001b[0m\u001b[1;33m)\u001b[0m\u001b[1;33m\u001b[0m\u001b[1;33m\u001b[0m\u001b[0m\n\u001b[0;32m     53\u001b[0m     \u001b[0mpro_F\u001b[0m\u001b[1;33m[\u001b[0m\u001b[1;34m'*区域'\u001b[0m\u001b[1;33m]\u001b[0m\u001b[1;33m=\u001b[0m\u001b[0mpro_F\u001b[0m\u001b[1;33m[\u001b[0m\u001b[1;34m'*区域'\u001b[0m\u001b[1;33m]\u001b[0m\u001b[1;33m.\u001b[0m\u001b[0mapply\u001b[0m\u001b[1;33m(\u001b[0m\u001b[1;32mlambda\u001b[0m \u001b[0mx\u001b[0m\u001b[1;33m:\u001b[0m\u001b[0mstr\u001b[0m\u001b[1;33m(\u001b[0m\u001b[0mx\u001b[0m\u001b[1;33m)\u001b[0m\u001b[1;33m)\u001b[0m\u001b[1;33m\u001b[0m\u001b[1;33m\u001b[0m\u001b[0m\n",
      "\u001b[1;32mC:\\ProgramData\\Anaconda3\\lib\\site-packages\\pandas\\core\\series.py\u001b[0m in \u001b[0;36mapply\u001b[1;34m(self, func, convert_dtype, args, **kwds)\u001b[0m\n\u001b[0;32m   3846\u001b[0m             \u001b[1;32melse\u001b[0m\u001b[1;33m:\u001b[0m\u001b[1;33m\u001b[0m\u001b[1;33m\u001b[0m\u001b[0m\n\u001b[0;32m   3847\u001b[0m                 \u001b[0mvalues\u001b[0m \u001b[1;33m=\u001b[0m \u001b[0mself\u001b[0m\u001b[1;33m.\u001b[0m\u001b[0mastype\u001b[0m\u001b[1;33m(\u001b[0m\u001b[0mobject\u001b[0m\u001b[1;33m)\u001b[0m\u001b[1;33m.\u001b[0m\u001b[0mvalues\u001b[0m\u001b[1;33m\u001b[0m\u001b[1;33m\u001b[0m\u001b[0m\n\u001b[1;32m-> 3848\u001b[1;33m                 \u001b[0mmapped\u001b[0m \u001b[1;33m=\u001b[0m \u001b[0mlib\u001b[0m\u001b[1;33m.\u001b[0m\u001b[0mmap_infer\u001b[0m\u001b[1;33m(\u001b[0m\u001b[0mvalues\u001b[0m\u001b[1;33m,\u001b[0m \u001b[0mf\u001b[0m\u001b[1;33m,\u001b[0m \u001b[0mconvert\u001b[0m\u001b[1;33m=\u001b[0m\u001b[0mconvert_dtype\u001b[0m\u001b[1;33m)\u001b[0m\u001b[1;33m\u001b[0m\u001b[1;33m\u001b[0m\u001b[0m\n\u001b[0m\u001b[0;32m   3849\u001b[0m \u001b[1;33m\u001b[0m\u001b[0m\n\u001b[0;32m   3850\u001b[0m         \u001b[1;32mif\u001b[0m \u001b[0mlen\u001b[0m\u001b[1;33m(\u001b[0m\u001b[0mmapped\u001b[0m\u001b[1;33m)\u001b[0m \u001b[1;32mand\u001b[0m \u001b[0misinstance\u001b[0m\u001b[1;33m(\u001b[0m\u001b[0mmapped\u001b[0m\u001b[1;33m[\u001b[0m\u001b[1;36m0\u001b[0m\u001b[1;33m]\u001b[0m\u001b[1;33m,\u001b[0m \u001b[0mSeries\u001b[0m\u001b[1;33m)\u001b[0m\u001b[1;33m:\u001b[0m\u001b[1;33m\u001b[0m\u001b[1;33m\u001b[0m\u001b[0m\n",
      "\u001b[1;32mpandas\\_libs\\lib.pyx\u001b[0m in \u001b[0;36mpandas._libs.lib.map_infer\u001b[1;34m()\u001b[0m\n",
      "\u001b[1;32m<ipython-input-3-742337291042>\u001b[0m in \u001b[0;36m<lambda>\u001b[1;34m(x)\u001b[0m\n\u001b[0;32m     49\u001b[0m     \u001b[0mprint\u001b[0m\u001b[1;33m(\u001b[0m\u001b[0mf\u001b[0m\u001b[1;33m,\u001b[0m\u001b[1;34m\"生成id后\"\u001b[0m\u001b[1;33m,\u001b[0m\u001b[0mlen\u001b[0m\u001b[1;33m(\u001b[0m\u001b[0mproT_expand\u001b[0m\u001b[1;33m)\u001b[0m\u001b[1;33m)\u001b[0m\u001b[1;33m\u001b[0m\u001b[1;33m\u001b[0m\u001b[0m\n\u001b[0;32m     50\u001b[0m \u001b[1;33m\u001b[0m\u001b[0m\n\u001b[1;32m---> 51\u001b[1;33m     \u001b[0mpro_F\u001b[0m\u001b[1;33m[\u001b[0m\u001b[1;34m'*SKU商品编码'\u001b[0m\u001b[1;33m]\u001b[0m \u001b[1;33m=\u001b[0m \u001b[0mpro_F\u001b[0m\u001b[1;33m[\u001b[0m\u001b[1;34m'*SKU商品编码'\u001b[0m\u001b[1;33m]\u001b[0m\u001b[1;33m.\u001b[0m\u001b[0mapply\u001b[0m\u001b[1;33m(\u001b[0m\u001b[1;32mlambda\u001b[0m \u001b[0mx\u001b[0m\u001b[1;33m:\u001b[0m\u001b[0mint\u001b[0m\u001b[1;33m(\u001b[0m\u001b[0mx\u001b[0m\u001b[1;33m)\u001b[0m\u001b[1;33m)\u001b[0m\u001b[1;33m\u001b[0m\u001b[1;33m\u001b[0m\u001b[0m\n\u001b[0m\u001b[0;32m     52\u001b[0m     \u001b[0mpro_F\u001b[0m\u001b[1;33m[\u001b[0m\u001b[1;34m'*SKU商品编码'\u001b[0m\u001b[1;33m]\u001b[0m \u001b[1;33m=\u001b[0m \u001b[0mpro_F\u001b[0m\u001b[1;33m[\u001b[0m\u001b[1;34m'*SKU商品编码'\u001b[0m\u001b[1;33m]\u001b[0m\u001b[1;33m.\u001b[0m\u001b[0mapply\u001b[0m\u001b[1;33m(\u001b[0m\u001b[1;32mlambda\u001b[0m \u001b[0mx\u001b[0m\u001b[1;33m:\u001b[0m \u001b[0mstr\u001b[0m\u001b[1;33m(\u001b[0m\u001b[0mx\u001b[0m\u001b[1;33m)\u001b[0m\u001b[1;33m)\u001b[0m\u001b[1;33m\u001b[0m\u001b[1;33m\u001b[0m\u001b[0m\n\u001b[0;32m     53\u001b[0m     \u001b[0mpro_F\u001b[0m\u001b[1;33m[\u001b[0m\u001b[1;34m'*区域'\u001b[0m\u001b[1;33m]\u001b[0m\u001b[1;33m=\u001b[0m\u001b[0mpro_F\u001b[0m\u001b[1;33m[\u001b[0m\u001b[1;34m'*区域'\u001b[0m\u001b[1;33m]\u001b[0m\u001b[1;33m.\u001b[0m\u001b[0mapply\u001b[0m\u001b[1;33m(\u001b[0m\u001b[1;32mlambda\u001b[0m \u001b[0mx\u001b[0m\u001b[1;33m:\u001b[0m\u001b[0mstr\u001b[0m\u001b[1;33m(\u001b[0m\u001b[0mx\u001b[0m\u001b[1;33m)\u001b[0m\u001b[1;33m)\u001b[0m\u001b[1;33m\u001b[0m\u001b[1;33m\u001b[0m\u001b[0m\n",
      "\u001b[1;31mValueError\u001b[0m: cannot convert float NaN to integer"
     ]
    }
   ],
   "source": [
    "### 提报处理\n",
    "\n",
    "def standard(a):  # 拆分函数\n",
    "    spl=[a]\n",
    "    if \",\" in a:\n",
    "        a = a.replace(',', '\\n')\n",
    "        spl = a.split('\\n')\n",
    "    if \"，\" in a:\n",
    "        a =  a.replace('，', '\\n')\n",
    "        spl = a.split('\\n')\n",
    "    if \"\\n\" in a:\n",
    "        spl = a.split(\"\\n\")\n",
    "    return spl    \n",
    "\n",
    "def expand(x):  # 重建表格\n",
    "    data = {c: x[c].iloc[0] for c in x}\n",
    "    data['*主数据号\\n（与前台账号二选一，一行只能填一个）'] = standard(data['*主数据号\\n（与前台账号二选一，一行只能填一个）'])\n",
    "#     print(len(data['*主数据号\\n（与前台账号二选一，一行只能填一个）']))\n",
    "    if len(data['*主数据号\\n（与前台账号二选一，一行只能填一个）'])==1:\n",
    "        return pd.DataFrame(data, index=[0])\n",
    "    return pd.DataFrame(data)\n",
    "\n",
    "\n",
    "count=0\n",
    "new_reports = os.listdir(path_newreport)\n",
    "for f in new_reports:\n",
    "    if not \".xlsx\" in f:\n",
    "        continue\n",
    "    pro = pd.read_excel(path_newreport+f) \n",
    "    pro = pro[pro['是否为项目SKU']=='是']\n",
    "    pro['提报日期']='6月'    #本行需要修改\n",
    "    print(f,len(pro))\n",
    "    \n",
    "    pro_F = pro[pd.isnull(pro['*主数据号\\n（与前台账号二选一，一行只能填一个）'])].copy()\n",
    "    print(f,'主数据号为空的',len(pro_F))\n",
    "    \n",
    "    pro_T = pro[pd.notnull(pro['*主数据号\\n（与前台账号二选一，一行只能填一个）'])].copy()\n",
    "    print(f,\"主数据号不为空的\",len(pro_T))\n",
    "    pro_T['序号'] = np.arange(len(pro_T))\n",
    "    proT_expand = pro_T.groupby('序号').apply(expand)\n",
    "    proT_expand.index = np.arange(len(proT_expand))\n",
    "    proT_expand['*主数据号\\n（与前台账号二选一，一行只能填一个）'] = proT_expand['*主数据号\\n（与前台账号二选一，一行只能填一个）'].apply(lambda x:str(x))\n",
    "    proT_expand['*主数据号\\n（与前台账号二选一，一行只能填一个）'] = proT_expand['*主数据号\\n（与前台账号二选一，一行只能填一个）'].apply(lambda x:x.strip())\n",
    "    print(f,\"标准化主数据号后\",len(proT_expand))\n",
    "    \n",
    "    proT_expand = proT_expand.drop(columns = ['序号'])\n",
    "    proT_expand['*SKU商品编码'] = proT_expand['*SKU商品编码'].apply(lambda x:int(x))\n",
    "    proT_expand['*SKU商品编码'] = proT_expand['*SKU商品编码'].apply(lambda x: str(x))\n",
    "    proT_expand['*区域']=proT_expand['*区域'].apply(lambda x:str(x))\n",
    "    proT_expand['id'] = proT_expand['*主数据号\\n（与前台账号二选一，一行只能填一个）']+','+proT_expand['*SKU商品编码']+','+proT_expand['*区域'].apply(lambda x: x[0:2])+'区'\n",
    "    print(f,\"生成id后\",len(proT_expand))\n",
    "    \n",
    "    pro_F['*SKU商品编码'] = pro_F['*SKU商品编码'].apply(lambda x:int(x))\n",
    "    pro_F['*SKU商品编码'] = pro_F['*SKU商品编码'].apply(lambda x: str(x))\n",
    "    pro_F['*区域']=pro_F['*区域'].apply(lambda x:str(x))\n",
    "    pro_F['id'] = pro_F['*前台账号\\n（与主数据号二选一，一行只能填一个）']+','+pro_F['*SKU商品编码']+','+pro_F['*区域'].apply(lambda x: x[0:2])+'区'\n",
    "    print(f,\"不含主数据号的生成id后\",len(pro_F))\n",
    "    \n",
    "    \n",
    "    if count == 0:\n",
    "        report_T = pd.DataFrame(columns = list(proT_expand))\n",
    "        report_F = pd.DataFrame(columns = list(pro_F))\n",
    "    report_T = pd.concat([report_T,proT_expand])\n",
    "    report_F = pd.concat([report_F,pro_F])\n",
    "    count = count+1\n",
    "    print(count,\"主数据号不为空的\",len(report_T))\n",
    "    print(count,\"主数据号为空的\",len(report_F))\n",
    "    \n",
    "    "
   ]
  },
  {
   "cell_type": "code",
   "execution_count": null,
   "metadata": {},
   "outputs": [],
   "source": [
    "report_T.to_excel(path_report+'6月末商品池提报汇总_主数据号不为空的.xlsx',index=False,encoding='gbk')\n",
    "\n",
    "report_F.to_excel(path_report+'6月末商品池提报汇总_主数据号为空的.xlsx',index=False,encoding='gbk')\n",
    "\n",
    "report = pd.concat([report_T,report_F])\n",
    "report.to_excel(path_report+'6月末商品池提报汇总.xlsx',index=False,encoding='gbk')\n",
    "# 要记得筛选出id部分“,xxx,xxx”的，这些是提报时候多打了空行的，需要手动删除"
   ]
  },
  {
   "cell_type": "code",
   "execution_count": null,
   "metadata": {},
   "outputs": [],
   "source": [
    "report = pd.read_excel(path_report+'6月末商品池提报汇总.xlsx')\n",
    "report_old = pd.read_excel(path_report+'4月5月6月商品池项目提报.xlsx')\n",
    "\n",
    "report_Q2 = pd.concat([report_old,report])\n",
    "print(len(report_Q2))\n",
    "\n",
    "report_Q2.to_excel(path_report+'Q2末商品池提报汇总_以此为准.xlsx',index=False,encoding = \"gbk\")\n",
    "\n",
    "report_456 = report_Q2[['id','提报日期','*提报人']]\n",
    "report_456 = report_456.drop_duplicates(subset='id',keep='last')\n",
    "print('Q2提报已读出',len(report_456))\n"
   ]
  },
  {
   "cell_type": "code",
   "execution_count": null,
   "metadata": {},
   "outputs": [],
   "source": [
    "# 开始匹配\n",
    "lst = os.listdir(path_goldeye)    #列出文件夹下所有的目录与文件\n",
    "print(lst)\n",
    "count2 = 0\n",
    "\n",
    "for i in range(0,len(lst)):\n",
    "    pth = os.path.join(path_goldeye,lst[i])\n",
    "    if os.path.isdir(pth):\n",
    "        print(\"当前路径\",pth)\n",
    "        p = os.listdir(pth)\n",
    "#         print(\"当前路径下文件\",p)\n",
    "        count = 0\n",
    "        for f in p:\n",
    "            if not \".xlsx\" in f:\n",
    "                continue\n",
    "            order = pd.read_excel(pth+\"\\\\\"+f)\n",
    "            order = order.drop_duplicates(subset=None,keep='first')\n",
    "            print(f,\"去重后订单总量\",len(order))\n",
    "            order['商品编码'] = order['商品编码'].apply(lambda x:str(x))\n",
    "            order['区域']=order['区域'].apply(lambda x:str(x))\n",
    "            \n",
    "            order_T = order[pd.notnull(order['合同号'])].copy()\n",
    "            print(f,\"订单中有主数据号的\",len(order_T))\n",
    "            order_F = order[pd.isnull(order['合同号'])].copy()\n",
    "            print(f,\"订单中无主数据号的\",len(order_F))\n",
    "\n",
    "\n",
    "            order_T['合同号'] = order_T['合同号'].apply(lambda x:str(x))\n",
    "            order_T['id'] = order_T['合同号']+\",\"+order_T['商品编码']+\",\"+order_T['区域'].apply(lambda x:x[0:2])+\"区\"\n",
    "\n",
    "            order_F['用户账号'] = order_F['用户账号'].apply(lambda x:str(x))\n",
    "            order_F['id'] = order_F['用户账号']+\",\"+order_F['商品编码']+\",\"+order_F['区域'].apply(lambda x:x[0:2])+\"区\"\n",
    "            \n",
    "            order_new = pd.concat([order_T,order_F])\n",
    "            order_new = order_new.drop_duplicates(subset=None,keep=\"first\")\n",
    "            \n",
    "            # 开始匹配\n",
    "            result = pd.merge(order,report_456,on='id',how='inner')\n",
    "            print([f,\"匹配到的数据量\",len(result)])\n",
    "            result = result.drop_duplicates(subset=None,keep='first')\n",
    "\n",
    "            if count == 0:\n",
    "                result_monthly = pd.DataFrame(columns = result.columns)\n",
    "            result_monthly = pd.concat([result_monthly,result])\n",
    "            count = count+1\n",
    "            print(pth,count,\"当月业绩总量\",len(result_monthly))\n",
    "\n",
    "            if count2 == 0:\n",
    "                result_total = pd.DataFrame(columns = result_monthly.columns)\n",
    "            result_total = pd.concat([result_total,result_monthly])\n",
    "            count2 = count2+1\n",
    "            print(count2,\"业绩量\",len(result_total))\n",
    "            \n",
    "        result_total.to_excel(path+'Q2商品池业绩.xlsx',index=False,encoding='gbk')\n",
    "        \n",
    "# 要记得对 除了“提报日期”以外的列进行去重\n",
    "# 理论上无重"
   ]
  },
  {
   "cell_type": "code",
   "execution_count": 4,
   "metadata": {},
   "outputs": [
    {
     "name": "stdout",
     "output_type": "stream",
     "text": [
      "东北区\n",
      "华东区\n",
      "华中区\n",
      "华北区\n",
      "华南区\n",
      "西南区\n"
     ]
    }
   ],
   "source": [
    "##### 商品池拆分\n",
    "for name, group in result_total.groupby('区域'):\n",
    "    print(name)\n",
    "    group.to_csv(path_sep_good+\"Q2\"+name+\"商品池业绩明细_新.csv\",encoding = 'utf-8-sig',index = False)"
   ]
  },
  {
   "cell_type": "code",
   "execution_count": 7,
   "metadata": {},
   "outputs": [
    {
     "name": "stdout",
     "output_type": "stream",
     "text": [
      "东北\n",
      "华东\n",
      "华中\n",
      "华北\n",
      "华南\n",
      "西南\n"
     ]
    }
   ],
   "source": [
    "##### 商品池提报拆分\n",
    "for name, group in report_Q2.groupby('*区域'):\n",
    "    print(name)\n",
    "    group.to_csv(path_sep_r+\"Q2\"+name+\"商品池提报_新.csv\",encoding = 'utf-8-sig',index = False)"
   ]
  },
  {
   "cell_type": "code",
   "execution_count": null,
   "metadata": {},
   "outputs": [],
   "source": []
  }
 ],
 "metadata": {
  "kernelspec": {
   "display_name": "Python 3",
   "language": "python",
   "name": "python3"
  },
  "language_info": {
   "codemirror_mode": {
    "name": "ipython",
    "version": 3
   },
   "file_extension": ".py",
   "mimetype": "text/x-python",
   "name": "python",
   "nbconvert_exporter": "python",
   "pygments_lexer": "ipython3",
   "version": "3.7.6"
  }
 },
 "nbformat": 4,
 "nbformat_minor": 4
}
