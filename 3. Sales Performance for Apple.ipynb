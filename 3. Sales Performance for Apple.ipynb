{
 "cells": [
  {
   "cell_type": "code",
   "execution_count": 10,
   "metadata": {},
   "outputs": [],
   "source": [
    "import pandas as pd\n",
    "import numpy as np\n",
    "import os\n",
    "\n",
    "path = 'D:\\\\maran10\\\\Documents\\\\日常工作\\\\3.项目业绩\\\\通讯\\\\'\n",
    "path_sep = path+'8月\\\\通讯业绩拆分\\\\'\n",
    "path_sep_re =  path+'8月\\\\通讯提报拆分\\\\'\n"
   ]
  },
  {
   "cell_type": "code",
   "execution_count": 13,
   "metadata": {},
   "outputs": [
    {
     "name": "stdout",
     "output_type": "stream",
     "text": [
      "通讯数据源已读出 2724\n",
      "去重后通讯数据源 2724\n",
      "['处理后订单总量', 2724]\n"
     ]
    }
   ],
   "source": [
    "# 通讯数据源读入\n",
    "order = pd.read_excel(path+'8月\\\\WEEK_商用项目产出_8月整月.xlsx', encoding='gbk')\n",
    "print('通讯数据源已读出',len(order))\n",
    "order = order.drop_duplicates(subset=None,keep='first')\n",
    "print(\"去重后通讯数据源\",len(order))\n",
    "\n",
    "\n",
    "order['new_item_sku_id'] = order['new_item_sku_id'].apply(lambda x:str(x))\n",
    "\n",
    "\n",
    "order['id'] = order['m_contract_number']+\",\"+order['new_item_sku_id']+\",\"+order['e_region_name'].apply(lambda x:x[0:2])+'区'\n",
    "print(['处理后订单总量',len(order)])\n",
    "\n",
    "order.to_excel(path+'8月\\\\通讯订单明细_8月整.xlsx',index=False,encoding='gbk')"
   ]
  },
  {
   "cell_type": "code",
   "execution_count": 14,
   "metadata": {},
   "outputs": [
    {
     "name": "stdout",
     "output_type": "stream",
     "text": [
      "旧提报数据量 38\n",
      "本月新提报数据量 405\n",
      "总提报数据量 443\n",
      "需要滚动8月明细的提报数据量 443\n"
     ]
    }
   ],
   "source": [
    "report_old = pd.read_excel(path+'7月\\\\通讯提报汇总_7月.xlsx',encoding = \"gbk\")  \n",
    "report_old['项目类型'] = report_old['项目类型'].apply(lambda x: x[0:2])\n",
    "print(\"旧提报数据量\",len(report_old))\n",
    "\n",
    "report_new = pd.read_excel(path+'8月\\\\李明月-通讯提报8月.xlsx',encoding = \"gbk\")\n",
    "\n",
    "report_new['*主数据号\\n（与前台账号二选一，一行只能填一个）'] = report_new['*主数据号\\n（与前台账号二选一，一行只能填一个）'].apply(lambda x:str(x))\n",
    "report_new['*主数据号\\n（与前台账号二选一，一行只能填一个）'] = report_new['*主数据号\\n（与前台账号二选一，一行只能填一个）'].apply(lambda x:x.strip())\n",
    "\n",
    "report_new['*SKU商品编码'] = report_new['*SKU商品编码'].apply(lambda x:int(x))\n",
    "report_new['*SKU商品编码'] = report_new['*SKU商品编码'].apply(lambda x:str(x))\n",
    "\n",
    "report_new['id'] = report_new['*主数据号\\n（与前台账号二选一，一行只能填一个）']+\",\"+report_new['*SKU商品编码']+\",\"+report_new['*区域'].apply(lambda x: x[0:2])+'区'\n",
    "report_new['提报月份'] = ['8月']*len(report_new)\n",
    "print(\"本月新提报数据量\",len(report_new))\n",
    "\n",
    "report_total = pd.concat([report_old,report_new])\n",
    "print('总提报数据量',len(report_total))\n",
    "report_total.to_excel(path+'8月\\\\8月末通讯提报汇总.xlsx',index=False,encoding='gbk')\n",
    "\n",
    "report_old2 = report_old[report_old['项目类型']!=\"月度\"].copy()\n",
    "report_total2 = pd.concat([report_old2,report_new])\n",
    "print('需要滚动8月明细的提报数据量',len(report_total2))\n",
    "report_total2.to_excel(path+'8月\\\\需要滚动8月明细的提报.xlsx',index=False,encoding='gbk')\n"
   ]
  },
  {
   "cell_type": "code",
   "execution_count": 15,
   "metadata": {},
   "outputs": [
    {
     "name": "stdout",
     "output_type": "stream",
     "text": [
      "['匹配到的数据量', 1550]\n"
     ]
    }
   ],
   "source": [
    "# 开始匹配\n",
    "r = report_total2[['id','*提报人','提报月份']]\n",
    "r = r.drop_duplicates(subset='id',keep='first')\n",
    "result = pd.merge(order,r,on='id',how='inner')\n",
    "print([\"匹配到的数据量\",len(result)])\n",
    "\n",
    "result.to_excel(path+'8月\\\\8月通讯项目业绩_916.xlsx',index=False,encoding='gbk')"
   ]
  },
  {
   "cell_type": "code",
   "execution_count": 16,
   "metadata": {},
   "outputs": [
    {
     "name": "stdout",
     "output_type": "stream",
     "text": [
      "东北区\n",
      "华东区\n",
      "华北区\n",
      "华南区\n",
      "西南区\n"
     ]
    }
   ],
   "source": [
    "for name, group in result.groupby('e_region_name'):\n",
    "    print(name)\n",
    "    if name == '西南区':\n",
    "        group = group[group['c_name']!='贵州茅台酱香酒营销有限公司']\n",
    "        group.to_excel(path_sep+\"8月\"+name+\"通讯业绩明细.xlsx\",encoding = 'gbk',index = False)\n",
    "    else:\n",
    "        group.to_excel(path_sep+\"8月\"+name+\"通讯业绩明细.xlsx\",encoding = 'gbk',index = False)\n",
    "    "
   ]
  },
  {
   "cell_type": "code",
   "execution_count": 17,
   "metadata": {},
   "outputs": [
    {
     "name": "stdout",
     "output_type": "stream",
     "text": [
      "东北\n",
      "华东\n",
      "华北\n",
      "华南\n",
      "西南\n"
     ]
    }
   ],
   "source": [
    "for name, group in report_total.groupby('*区域'):\n",
    "    print(name)\n",
    "    group.to_excel(path_sep_re+\"7.8月\"+name+\"通讯提报.xlsx\",encoding = 'gbk',index = False)\n",
    "    "
   ]
  },
  {
   "cell_type": "code",
   "execution_count": null,
   "metadata": {},
   "outputs": [],
   "source": []
  }
 ],
 "metadata": {
  "kernelspec": {
   "display_name": "Python 3",
   "language": "python",
   "name": "python3"
  },
  "language_info": {
   "codemirror_mode": {
    "name": "ipython",
    "version": 3
   },
   "file_extension": ".py",
   "mimetype": "text/x-python",
   "name": "python",
   "nbconvert_exporter": "python",
   "pygments_lexer": "ipython3",
   "version": "3.7.6"
  }
 },
 "nbformat": 4,
 "nbformat_minor": 4
}
