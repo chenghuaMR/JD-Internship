{
 "cells": [
  {
   "cell_type": "code",
   "execution_count": 16,
   "metadata": {},
   "outputs": [],
   "source": [
    "import pandas as pd\n",
    "import numpy as np\n",
    "import os\n",
    "import datetime\n",
    "import pinyin\n",
    "\n",
    "\n",
    "# 设定路径\n",
    "rpath = 'D:\\\\maran10\\\\Documents\\\\日常工作\\\\1.商机表\\\\9.25商机反馈\\\\'\n",
    "wpath = 'D:\\\\maran10\\\\Documents\\\\日常工作\\\\1.商机表\\\\'\n",
    "sep_path = wpath+'9.25商机拆分\\\\'\n",
    "\n",
    "opp = pd.read_excel(wpath+'全国商用线下商机表9.18.xlsx',encoding = 'gbk')\n",
    "\n",
    "# 下面这里是处理第一行的注释\n",
    "# opp.columns = opp.iloc[0]  \n",
    "# opp = opp.loc[1:,:]\n",
    "\n",
    "# opp.head(10)  # 看一下原表格\n"
   ]
  },
  {
   "cell_type": "code",
   "execution_count": 17,
   "metadata": {},
   "outputs": [
    {
     "name": "stdout",
     "output_type": "stream",
     "text": [
      "第 1 次循环\n",
      "华东区-商用商机汇总表-20200924-更新.xlsx 该文件中的数据条数 9999\n",
      "华东区-商用商机汇总表-20200924-更新.xlsx 更新数据条数 12\n",
      "更新的项目条数 1\n",
      "新增的项目条数 11\n",
      "第 2 次循环\n",
      "华中商用线下商机表9.24.xlsx 该文件中的数据条数 9999\n",
      "华中商用线下商机表9.24.xlsx 更新数据条数 5\n",
      "更新的项目条数 1\n",
      "新增的项目条数 16\n",
      "第 3 次循环\n",
      "华北商用线下商机表9.24.xlsx 该文件中的数据条数 9999\n",
      "华北商用线下商机表9.24.xlsx 更新数据条数 80\n",
      "更新的项目条数 30\n",
      "新增的项目条数 67\n",
      "第 4 次循环\n",
      "华南商用线下商机表-华南区汇总0924.xlsx 该文件中的数据条数 10000\n",
      "华南商用线下商机表-华南区汇总0924.xlsx 更新数据条数 12\n",
      "更新的项目条数 30\n",
      "新增的项目条数 79\n",
      "第 5 次循环\n",
      "商用东北区商机--9月25号反馈.xlsx 该文件中的数据条数 9998\n",
      "商用东北区商机--9月25号反馈.xlsx 更新数据条数 5\n",
      "更新的项目条数 31\n",
      "新增的项目条数 83\n"
     ]
    }
   ],
   "source": [
    "# 循环读各区域提报的新商机表\n",
    "\n",
    "count=0  # 计循环次数\n",
    "files = os.listdir(rpath)\n",
    "for f in files: \n",
    "    if not \".xlsx\" in f:\n",
    "        continue\n",
    "    opp_region = pd.read_excel(rpath+f,encoding = \"gbk\")\n",
    "    \n",
    "#     opp_region.columns = opp_region.iloc[0]\n",
    "#     opp_region = opp_region.loc[1:,:]\n",
    "\n",
    "    count = count+1\n",
    "#     print(opp_region.head(5))\n",
    "    print(\"第\",count,\"次循环\")\n",
    "    print(f,\"该文件中的数据条数\",len(opp_region))\n",
    "    \n",
    "    # 直接筛选更新了的，没更新的不用管\n",
    "\n",
    "    opp_new = opp_region[opp_region['本周是否更新']==\"是\"]\n",
    "    print(f,\"更新数据条数\",len(opp_new))\n",
    "    \n",
    "    if count == 1:  # 第一次要先生成空表才能concat\n",
    "        opp_renew = pd.DataFrame(columns = list(opp_new))  # 项目唯一编号不为空的，是更新商机\n",
    "        opp_totalnew = pd.DataFrame(columns = list(opp_new))  # 项目唯一编号为空的，是新增商机\n",
    "\n",
    "    opp_renew = pd.concat([opp_renew,opp_new[pd.notnull(opp_new['项目唯一编号\\n（总部填写）'])]].copy())\n",
    "    opp_totalnew = pd.concat([opp_totalnew,opp_new[pd.isnull(opp_new['项目唯一编号\\n（总部填写）'])]].copy())\n",
    "    \n",
    "    print(\"更新的项目条数\",len(opp_renew))\n",
    "    print(\"新增的项目条数\",len(opp_totalnew))\n",
    "    \n",
    "#### 写出表格\n",
    "# opp_renew.to_excel(wpath+'全国更新的商机项目.xlsx',index=False,encoding='gbk')\n",
    "# opp_totalnew.to_excel(wpath+'全国新增的商机项目.xlsx',index=False,encoding='gbk')"
   ]
  },
  {
   "cell_type": "code",
   "execution_count": 18,
   "metadata": {},
   "outputs": [],
   "source": [
    "# 给新增的项目编号\n",
    "def getStrAllAplha(str):\n",
    "    return pinyin.get_initial(str, delimiter=\"\").upper()\n",
    "    \n",
    "def getStrFirstAplha(str):\n",
    "    str=getStrAllAplha(str)\n",
    "    str=str[0:2]\n",
    "    return str.upper()\n",
    "\n",
    "\n",
    "opp_totalnew['today'] = [datetime.datetime.now().strftime('%Y%m%d')]*len(opp_totalnew)\n",
    "opp_totalnew['大区首字母'] = opp_totalnew['*大区'].apply(lambda x:getStrFirstAplha(x))\n",
    "opp_totalnew['业务分类首字母'] = opp_totalnew['*业务分类'].apply(lambda x:getStrFirstAplha(x))\n",
    "opp_totalnew['序号'] = np.arange(1,len(opp_totalnew)+1)\n",
    "opp_totalnew['序号'] = opp_totalnew['序号'].apply(lambda x:str(x))\n",
    "opp_totalnew['项目唯一编号\\n（总部填写）'] = opp_totalnew['today']+opp_totalnew['大区首字母']+opp_totalnew['业务分类首字母']+opp_totalnew['序号'].apply(lambda x:x.zfill(2))\n",
    "opp_totalnew = opp_totalnew.drop(columns = ['today','大区首字母','业务分类首字母'])\n",
    "# opp_totalnew.head(3)"
   ]
  },
  {
   "cell_type": "code",
   "execution_count": 19,
   "metadata": {},
   "outputs": [
    {
     "name": "stdout",
     "output_type": "stream",
     "text": [
      "项目唯一编号重复量 0\n",
      "2129\n"
     ]
    }
   ],
   "source": [
    "a = opp['项目唯一编号\\n（总部填写）'].value_counts()\n",
    "print(\"项目唯一编号重复量\",len(a[a>1])) # 这里应该为0\n",
    "# 这里的去重只是为了保险检查\n",
    "opp_dp = opp.drop_duplicates(subset=['项目唯一编号\\n（总部填写）'],keep='first', inplace=False)\n",
    "print(len(opp_dp))"
   ]
  },
  {
   "cell_type": "code",
   "execution_count": 20,
   "metadata": {},
   "outputs": [
    {
     "name": "stdout",
     "output_type": "stream",
     "text": [
      "原全国商机表数据条数 2129\n",
      "加上更新与新增商机后商机表数据条数 2243\n",
      "重复条数 31\n"
     ]
    }
   ],
   "source": [
    "# 将更新的项目表，和编码后的新增的项目表更新回总表\n",
    "print(\"原全国商机表数据条数\",len(opp_dp))\n",
    "\n",
    "opp_new = pd.concat([opp_dp,opp_renew,opp_totalnew])\n",
    "print(\"加上更新与新增商机后商机表数据条数\",len(opp_new))\n",
    "\n",
    "cou = opp_new['项目唯一编号\\n（总部填写）'].value_counts()\n",
    "# print(cou[cou>1])\n",
    "print(\"重复条数\",len(cou[cou>1]))  # 重复条数与更新条数应该相同"
   ]
  },
  {
   "cell_type": "code",
   "execution_count": 26,
   "metadata": {},
   "outputs": [
    {
     "name": "stdout",
     "output_type": "stream",
     "text": [
      "去重后全国商机表数据条数 2212\n",
      "去掉无效关闭后全国商机表数据条数 2212\n",
      "更新后全国商用线下商机表数据条数 2212\n"
     ]
    }
   ],
   "source": [
    "opp_new_dp = opp_new.drop_duplicates(subset=['项目唯一编号\\n（总部填写）'],keep='last', inplace=False)\n",
    "print(\"去重后全国商机表数据条数\",len(opp_new_dp))\n",
    "\n",
    "opp_new_dp = opp_new_dp[opp_new_dp['*项目状态']!='无效关闭']  # 删掉无效关闭的\n",
    "print(\"去掉无效关闭后全国商机表数据条数\",len(opp_new_dp))\n",
    "\n",
    "opp_new_dp['*项目获取时间'] = opp_new_dp['*项目获取时间'].apply(lambda x:str(x))\n",
    "opp_new_dp['*项目获取时间'] = opp_new_dp['*项目获取时间'].apply(lambda x: x[0:11])\n",
    "opp_new_dp = opp_new_dp.sort_values('*项目获取时间',ascending=True)\n",
    "\n",
    "# 重新生成序号\n",
    "opp_new_dp['序号'] = np.arange(1,len(opp_new_dp)+1)\n",
    "\n",
    "opp_new_dp['本周是否更新']=[np.nan]*len(opp_new_dp) # 这句话是去掉“是否更新”一列的“是”\n",
    "\n",
    "\n",
    "# opp_new_dp['*项目获取时间'] = pd.to_datetime(opp_new['*项目获取时间'])\n",
    "# opp_new_dp['*项目获取时间'] = opp_new_dp['*项目获取时间'].apply(lambda x: x.strftime('%Y%m%d'))  # 把日期列转换为日期格式\n",
    "\n",
    "# opp_new_dp['*项目中标时间'] = pd.to_datetime(opp_new['*项目中标时间'])\n",
    "# opp_new_dp['*项目中标时间'] = opp_new_dp['*项目中标时间'].apply(lambda x: x.strftime('%Y%m%d')) \n",
    "\n",
    "print(\"更新后全国商用线下商机表数据条数\",len(opp_new_dp))\n",
    "\n",
    "opp_new_dp.to_excel(wpath+'更新后全国商用线下商机表.xlsx',index=False,encoding='gbk')"
   ]
  },
  {
   "cell_type": "code",
   "execution_count": 27,
   "metadata": {},
   "outputs": [
    {
     "name": "stdout",
     "output_type": "stream",
     "text": [
      "东北\n",
      "华东\n",
      "华中\n",
      "华北\n",
      "华南\n",
      "西南\n"
     ]
    }
   ],
   "source": [
    "# 按区域拆分\n",
    "# opp_new = pd.read_excel(wpath+'全国商用线下商机表9.11.xlsx',encoding='gbk')\n",
    "for name, group in opp_new_dp.groupby('*大区'):\n",
    "    print(name)\n",
    "    group.to_excel(sep_path+name+\"商用线下商机表9.25.xlsx\",encoding='gbk',index=False)"
   ]
  },
  {
   "cell_type": "code",
   "execution_count": null,
   "metadata": {},
   "outputs": [],
   "source": [
    " "
   ]
  }
 ],
 "metadata": {
  "kernelspec": {
   "display_name": "Python 3",
   "language": "python",
   "name": "python3"
  },
  "language_info": {
   "codemirror_mode": {
    "name": "ipython",
    "version": 3
   },
   "file_extension": ".py",
   "mimetype": "text/x-python",
   "name": "python",
   "nbconvert_exporter": "python",
   "pygments_lexer": "ipython3",
   "version": "3.7.6"
  }
 },
 "nbformat": 4,
 "nbformat_minor": 4
}
