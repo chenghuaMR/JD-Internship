{
 "cells": [
  {
   "cell_type": "code",
   "execution_count": 10,
   "metadata": {},
   "outputs": [
    {
     "name": "stdout",
     "output_type": "stream",
     "text": [
      "电脑数码需要删除 411\n",
      "居家家电需要删除 240\n",
      "数据条数 36758\n"
     ]
    }
   ],
   "source": [
    "import pandas as pd\n",
    "import numpy as np\n",
    "import os\n",
    "\n",
    "path_del = 'D:\\\\maran10\\\\Documents\\\\日常工作\\\\Q2商品池、通讯\\\\商品池业绩\\\\'\n",
    "ori = pd.read_excel(path_del+'Q2商品池业绩.xlsx',encoding='gbk')\n",
    "print('原始数据条数',len(ori))\n",
    "\n",
    "del1 = pd.read_excel(path_del+'Q2电脑数码调整.xlsx',encoding='gbk')\n",
    "del1 = del1[['id','删除-电脑数码']]\n",
    "del1 = del1[del1['删除-电脑数码']==\"是\"]\n",
    "print('电脑数码需要删除',len(del1))\n",
    "del1 = del1.drop_duplicates(subset='id',keep='first')\n",
    "print('电脑数码需要删除',len(del1))\n",
    "\n",
    "del2 = pd.read_excel(path_del+'Q2居家家电调整.xlsx',encoding='gbk')\n",
    "del2 = del2[['id','删除']]\n",
    "del2 = del2[del2['删除']==\"是\"]\n",
    "print('居家家电需要删除',len(del2))\n",
    "del2 = del2.drop_duplicates(subset='id',keep='first')\n",
    "print('居家家电需要删除',len(del2))\n",
    "\n",
    "ori_del = pd.merge(ori,del1,on='id',how='left')\n",
    "ori_del = pd.merge(ori_del,del2,on='id',how='left')\n",
    "print('数据条数',len(ori_del))"
   ]
  },
  {
   "cell_type": "code",
   "execution_count": 12,
   "metadata": {},
   "outputs": [],
   "source": [
    "ori_del.to_excel(path_del+'标记删除后Q2商品池业绩.xlsx',index=False)"
   ]
  }
 ],
 "metadata": {
  "kernelspec": {
   "display_name": "Python 3",
   "language": "python",
   "name": "python3"
  },
  "language_info": {
   "codemirror_mode": {
    "name": "ipython",
    "version": 3
   },
   "file_extension": ".py",
   "mimetype": "text/x-python",
   "name": "python",
   "nbconvert_exporter": "python",
   "pygments_lexer": "ipython3",
   "version": "3.7.6"
  }
 },
 "nbformat": 4,
 "nbformat_minor": 4
}
