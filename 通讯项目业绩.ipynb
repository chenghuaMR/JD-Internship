{
 "cells": [
  {
   "cell_type": "code",
   "execution_count": 7,
   "metadata": {},
   "outputs": [],
   "source": [
    "import pandas as pd\n",
    "import numpy as np\n",
    "import os\n",
    "\n",
    "path = 'D:\\\\maran10\\\\Documents\\\\日常工作\\\\3.项目业绩\\\\通讯\\\\'\n",
    "path_sep = path+'8月\\\\通讯业绩拆分\\\\'\n",
    "path_sep_re =  path+'8月\\\\通讯提报拆分\\\\'\n"
   ]
  },
  {
   "cell_type": "code",
   "execution_count": 8,
   "metadata": {},
   "outputs": [
    {
     "name": "stdout",
     "output_type": "stream",
     "text": [
      "通讯数据源已读出 1545\n",
      "去重后通讯数据源 1545\n",
      "['处理后订单总量', 1545]\n"
     ]
    }
   ],
   "source": [
    "# 通讯数据源读入\n",
    "order = pd.read_csv(path+'8月\\\\WEEK_商用项目产出_20200821.csv',encoding='gbk')\n",
    "print('通讯数据源已读出',len(order))\n",
    "order = order.drop_duplicates(subset=None,keep='first')\n",
    "print(\"去重后通讯数据源\",len(order))\n",
    "\n",
    "\n",
    "order['new_item_sku_id'] = order['new_item_sku_id'].apply(lambda x:str(x))\n",
    "\n",
    "\n",
    "order['id'] = order['m_contract_number']+\",\"+order['new_item_sku_id']+\",\"+order['e_region_name'].apply(lambda x:x[0:2])+'区'\n",
    "print(['处理后订单总量',len(order)])\n"
   ]
  },
  {
   "cell_type": "code",
   "execution_count": 3,
   "metadata": {},
   "outputs": [
    {
     "name": "stdout",
     "output_type": "stream",
     "text": [
      "旧提报数据量 21\n"
     ]
    }
   ],
   "source": [
    "report_old = pd.read_excel(path+'7月\\\\通讯提报汇总_7月.xlsx',encoding = \"gbk\")  \n",
    "report_old['项目类型'] = report_old['项目类型'].apply(lambda x: x[0:2])\n",
    "report_old2 = report_old[report_old['项目类型']!=\"月度\"].copy()\n",
    "print(\"旧提报数据量\",len(report_old2))\n",
    "\n",
    "report_new = pd.read_excel(path+'通讯提报_7月.xlsx',encoding = \"gbk\")\n",
    "\n",
    "report_new['*主数据号\\n（与前台账号二选一，一行只能填一个）'] = report_new['*主数据号\\n（与前台账号二选一，一行只能填一个）'].apply(lambda x:str(x))\n",
    "report_new['*主数据号\\n（与前台账号二选一，一行只能填一个）'] = report_new['*主数据号\\n（与前台账号二选一，一行只能填一个）'].apply(lambda x:x.strip())\n",
    "\n",
    "report_new['*SKU商品编码'] = report_new['*SKU商品编码'].apply(lambda x:int(x))\n",
    "report_new['*SKU商品编码'] = report_new['*SKU商品编码'].apply(lambda x:str(x))\n",
    "\n",
    "\n",
    "\n",
    "report_new['id'] = report_new['*主数据号\\n（与前台账号二选一，一行只能填一个）']+\",\"+report_new['*SKU商品编码']+\",\"+report_new['*区域'].apply(lambda x: x[0:2])+'区'\n",
    "report_new['提报月份'] = ['7月']*len(report_new)\n",
    "print(\"本月新提报数据量\",len(report_new))\n",
    "report_old = report_old.drop_duplicates(subset='id', keep='first')\n",
    "\n",
    "\n",
    "report_total = pd.concat([report_old2,report_new])\n",
    "report_total = report_total.drop_duplicates(subset=None,keep='last')\n",
    "print('总提报数据量',len(report_total))\n",
    "report_total = report_old2.copy()\n",
    "report_total.to_excel(path+'8月\\\\截至8.20通讯提报汇总.xlsx',index=False,encoding='gbk')\n"
   ]
  },
  {
   "cell_type": "code",
   "execution_count": 9,
   "metadata": {},
   "outputs": [
    {
     "name": "stdout",
     "output_type": "stream",
     "text": [
      "['匹配到的数据量', 96]\n"
     ]
    }
   ],
   "source": [
    "# 开始匹配\n",
    "r = report_total[['id','*提报人','提报月份']]\n",
    "r = r.drop_duplicates(subset='id',keep='first')\n",
    "result = pd.merge(order,r,on='id',how='inner')\n",
    "print([\"匹配到的数据量\",len(result)])\n",
    "\n",
    "result.to_excel(path+'\\\\8月\\\\截至8.21通讯项目业绩.xlsx',index=False,encoding='gbk')"
   ]
  },
  {
   "cell_type": "code",
   "execution_count": 7,
   "metadata": {},
   "outputs": [
    {
     "name": "stdout",
     "output_type": "stream",
     "text": [
      "Q2通讯业绩 3172\n"
     ]
    }
   ],
   "source": [
    "# 导出结果\n",
    "# result_old = pd.read_excel(path+'\\\\通讯业绩\\\\Q2通讯业绩_618.xlsx')\n",
    "# result_new = pd.concat([result_old,result])\n",
    "# result_new = result_new.drop_duplicates(subset=None,keep='last')\n",
    "# print('Q2通讯业绩',len(result_Q2))\n",
    "# result_Q2.to_excel(path+'Q2通讯项目业绩.xlsx',index=False,encoding='gbk')"
   ]
  },
  {
   "cell_type": "code",
   "execution_count": 10,
   "metadata": {},
   "outputs": [
    {
     "name": "stdout",
     "output_type": "stream",
     "text": [
      "华北区\n",
      "华南区\n"
     ]
    }
   ],
   "source": [
    "for name, group in result.groupby('e_region_name'):\n",
    "    print(name)\n",
    "    if name == '西南区':\n",
    "        group = group[group['c_name']!='贵州茅台酱香酒营销有限公司']\n",
    "        group.to_excel(path_sep+\"8月\"+name+\"通讯业绩明细.xlsx\",encoding = 'gbk',index = False)\n",
    "    else:\n",
    "        group.to_excel(path_sep+\"8月\"+name+\"通讯业绩明细.xlsx\",encoding = 'gbk',index = False)\n",
    "    "
   ]
  },
  {
   "cell_type": "code",
   "execution_count": 6,
   "metadata": {},
   "outputs": [
    {
     "name": "stdout",
     "output_type": "stream",
     "text": [
      "华北\n",
      "华南\n",
      "西南\n"
     ]
    }
   ],
   "source": [
    "for name, group in report_total.groupby('*区域'):\n",
    "    print(name)\n",
    "    group.to_excel(path_sep_re+\"8月\"+name+\"通讯提报.xlsx\",encoding = 'gbk',index = False)\n",
    "    "
   ]
  },
  {
   "cell_type": "code",
   "execution_count": null,
   "metadata": {},
   "outputs": [],
   "source": []
  }
 ],
 "metadata": {
  "kernelspec": {
   "display_name": "Python 3",
   "language": "python",
   "name": "python3"
  },
  "language_info": {
   "codemirror_mode": {
    "name": "ipython",
    "version": 3
   },
   "file_extension": ".py",
   "mimetype": "text/x-python",
   "name": "python",
   "nbconvert_exporter": "python",
   "pygments_lexer": "ipython3",
   "version": "3.7.6"
  }
 },
 "nbformat": 4,
 "nbformat_minor": 4
}
